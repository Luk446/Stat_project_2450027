{
 "cells": [
  {
   "cell_type": "markdown",
   "metadata": {},
   "source": [
    "Typically hypothesis testing is done in a specific pathway using conformity to the normal distribution:\n",
    "\n",
    "**Prepare**: Identify the parameters of interest, list hypothesis, identify the significance level and identify p and n\n",
    "\n",
    "**Check**: Verify conditions to ensure p is normal under null hypothesis \n",
    "\n",
    "**Calculate**: If conditions hold compute standard error, z-score and identify p value\n",
    "\n",
    "**Conclude**: Evalute hypothesis\n",
    "\n",
    "Although upon initial inspection due to non-conformity to the conditions of this certain hypothesis test we predict we cannot compute as such. However, luckily there is a way we can still test a specific hypothesis using a certain python library execution. Infact this theory is where we draw our hypothesis from\n",
    "\n",
    "We know that Cobb angles are the quantifaction of spinal deformity. These can be valued as on the most important values of the paper. In this code we perform some important analysis on them.\n",
    "- Initially the important libraries and modules are called\n",
    "- Then we create variable arrays for the Cobb angles\n",
    "- Plot histograms to visually inspect\n",
    "- Do a stat test to mathematically determine important values \n",
    "- Link to null hypotheses\n",
    "- Plot further\n",
    "- Derive values and link to hypothesis\n",
    "\n",
    "Once we have the values we can use these to test the null hypotheses.\n",
    "Due to the nature of the test, an appropriate null hypothesis would be:\n",
    "\n",
    "> The severity of scoliosis in children is not normally distributed, whether pre or post surgery.\n",
    "\n",
    "With the Alternate hypothesis:\n",
    "\n",
    "> Scoliosis severity in children follows the normal distribution\n"
   ]
  },
  {
   "cell_type": "code",
   "execution_count": 58,
   "metadata": {},
   "outputs": [
    {
     "data": {
      "text/html": [
       "<div>\n",
       "<style scoped>\n",
       "    .dataframe tbody tr th:only-of-type {\n",
       "        vertical-align: middle;\n",
       "    }\n",
       "\n",
       "    .dataframe tbody tr th {\n",
       "        vertical-align: top;\n",
       "    }\n",
       "\n",
       "    .dataframe thead th {\n",
       "        text-align: right;\n",
       "    }\n",
       "</style>\n",
       "<table border=\"1\" class=\"dataframe\">\n",
       "  <thead>\n",
       "    <tr style=\"text-align: right;\">\n",
       "      <th></th>\n",
       "      <th>ID</th>\n",
       "      <th>Age at Prior Fusion (mo)</th>\n",
       "      <th>Age at VEPTR (yr)</th>\n",
       "      <th>Age at Last Follow-up CT (yr)</th>\n",
       "      <th>Length of Follow-up(yr)</th>\n",
       "      <th>Cobb Angle Preoperative</th>\n",
       "      <th>Cobb angle Postoperative</th>\n",
       "      <th>Cobb Angle Last</th>\n",
       "      <th>Thoracic Spine Length (cm) Pre Operative</th>\n",
       "      <th>Thoracic Spine Length (cm) Postoperative</th>\n",
       "      <th>Thoracic Spine Length (cm) Last</th>\n",
       "      <th>Change in Thoracic Spine Length After Initial VEPTR (cm) [last postoperative (cm)]</th>\n",
       "      <th>Grovvth/Year Thoracic Spine After Initial Operation (cm) [last — postoperative/ yr (crVyr)]</th>\n",
       "    </tr>\n",
       "  </thead>\n",
       "  <tbody>\n",
       "    <tr>\n",
       "      <th>0</th>\n",
       "      <td>a</td>\n",
       "      <td>NaN</td>\n",
       "      <td>2.1</td>\n",
       "      <td>7.3</td>\n",
       "      <td>5.2</td>\n",
       "      <td>47.0</td>\n",
       "      <td>29.0</td>\n",
       "      <td>29.0</td>\n",
       "      <td>12.3</td>\n",
       "      <td>15.3</td>\n",
       "      <td>20.7</td>\n",
       "      <td>5.4</td>\n",
       "      <td>1.0</td>\n",
       "    </tr>\n",
       "    <tr>\n",
       "      <th>1</th>\n",
       "      <td>b</td>\n",
       "      <td>NaN</td>\n",
       "      <td>9.9</td>\n",
       "      <td>14.7</td>\n",
       "      <td>4.8</td>\n",
       "      <td>30.0</td>\n",
       "      <td>20.0</td>\n",
       "      <td>32.0</td>\n",
       "      <td>NaN</td>\n",
       "      <td>21.1</td>\n",
       "      <td>26.1</td>\n",
       "      <td>5.0</td>\n",
       "      <td>1.0</td>\n",
       "    </tr>\n",
       "    <tr>\n",
       "      <th>2</th>\n",
       "      <td>c</td>\n",
       "      <td>NaN</td>\n",
       "      <td>1.2</td>\n",
       "      <td>5.2</td>\n",
       "      <td>4.0</td>\n",
       "      <td>49.0</td>\n",
       "      <td>47.0</td>\n",
       "      <td>49.0</td>\n",
       "      <td>107.0</td>\n",
       "      <td>12.2</td>\n",
       "      <td>16.0</td>\n",
       "      <td>38.0</td>\n",
       "      <td>1.0</td>\n",
       "    </tr>\n",
       "    <tr>\n",
       "      <th>3</th>\n",
       "      <td>d</td>\n",
       "      <td>NaN</td>\n",
       "      <td>3.4</td>\n",
       "      <td>8.8</td>\n",
       "      <td>5.4</td>\n",
       "      <td>34.0</td>\n",
       "      <td>49.0</td>\n",
       "      <td>49.0</td>\n",
       "      <td>NaN</td>\n",
       "      <td>NaN</td>\n",
       "      <td>21.2</td>\n",
       "      <td>NaN</td>\n",
       "      <td>NaN</td>\n",
       "    </tr>\n",
       "    <tr>\n",
       "      <th>4</th>\n",
       "      <td>e</td>\n",
       "      <td>NaN</td>\n",
       "      <td>1.0</td>\n",
       "      <td>5.7</td>\n",
       "      <td>4.7</td>\n",
       "      <td>33.0</td>\n",
       "      <td>12.0</td>\n",
       "      <td>16.0</td>\n",
       "      <td>105.0</td>\n",
       "      <td>10.1</td>\n",
       "      <td>13.9</td>\n",
       "      <td>3.8</td>\n",
       "      <td>8.0</td>\n",
       "    </tr>\n",
       "  </tbody>\n",
       "</table>\n",
       "</div>"
      ],
      "text/plain": [
       "  ID  Age at Prior Fusion (mo)  Age at VEPTR (yr)  \\\n",
       "0  a                       NaN                2.1   \n",
       "1  b                       NaN                9.9   \n",
       "2  c                       NaN                1.2   \n",
       "3  d                       NaN                3.4   \n",
       "4  e                       NaN                1.0   \n",
       "\n",
       "   Age at Last Follow-up CT (yr)  Length of Follow-up(yr)  \\\n",
       "0                            7.3                      5.2   \n",
       "1                           14.7                      4.8   \n",
       "2                            5.2                      4.0   \n",
       "3                            8.8                      5.4   \n",
       "4                            5.7                      4.7   \n",
       "\n",
       "   Cobb Angle Preoperative  Cobb angle Postoperative  Cobb Angle Last  \\\n",
       "0                     47.0                      29.0             29.0   \n",
       "1                     30.0                      20.0             32.0   \n",
       "2                     49.0                      47.0             49.0   \n",
       "3                     34.0                      49.0             49.0   \n",
       "4                     33.0                      12.0             16.0   \n",
       "\n",
       "   Thoracic Spine Length (cm) Pre Operative  \\\n",
       "0                                      12.3   \n",
       "1                                       NaN   \n",
       "2                                     107.0   \n",
       "3                                       NaN   \n",
       "4                                     105.0   \n",
       "\n",
       "   Thoracic Spine Length (cm) Postoperative  Thoracic Spine Length (cm) Last  \\\n",
       "0                                      15.3                             20.7   \n",
       "1                                      21.1                             26.1   \n",
       "2                                      12.2                             16.0   \n",
       "3                                       NaN                             21.2   \n",
       "4                                      10.1                             13.9   \n",
       "\n",
       "   Change in Thoracic Spine Length After Initial VEPTR (cm) [last postoperative (cm)]  \\\n",
       "0                                                5.4                                    \n",
       "1                                                5.0                                    \n",
       "2                                               38.0                                    \n",
       "3                                                NaN                                    \n",
       "4                                                3.8                                    \n",
       "\n",
       "   Grovvth/Year Thoracic Spine After Initial Operation (cm) [last — postoperative/ yr (crVyr)]  \n",
       "0                                                1.0                                            \n",
       "1                                                1.0                                            \n",
       "2                                                1.0                                            \n",
       "3                                                NaN                                            \n",
       "4                                                8.0                                            "
      ]
     },
     "execution_count": 58,
     "metadata": {},
     "output_type": "execute_result"
    }
   ],
   "source": [
    "# Import the relevant modules and libraries \n",
    "import numpy as np \n",
    "import pandas as pd\n",
    "import matplotlib\n",
    "import matplotlib.pyplot as pp\n",
    "from scipy.stats import anderson\n",
    "import prettytable\n",
    "from prettytable import PrettyTable\n",
    "\n",
    "# Now the dataframe needs to be imported and defined\n",
    "df = pd.read_csv('Table2extract.csv')     \n",
    "df.head() # print the first few rows of the table to verify proper importing\n",
    "# we can see the output below\n"
   ]
  },
  {
   "cell_type": "markdown",
   "metadata": {},
   "source": [
    "We now extrect the PRE and POSTOP"
   ]
  },
  {
   "cell_type": "code",
   "execution_count": 59,
   "metadata": {},
   "outputs": [],
   "source": [
    "# convert variable df into a datafram\n",
    "df = pd.DataFrame(df)\n",
    "\n",
    "#extract \n",
    "ID = list(df.iloc[:,0])\n",
    "PREOP = list(df.iloc[:,5])\n",
    "POSTOP = list(df.iloc[:,6])\n",
    "LAST = list(df.iloc[:,7])\n",
    "# var = allvars at the dataframe location all rows , N collumn\n"
   ]
  },
  {
   "cell_type": "markdown",
   "metadata": {},
   "source": [
    "First we plot histograms of each of the cobb angles PRE and POSTOP \n",
    "For ease of comparison we can plot them ontop of each other"
   ]
  },
  {
   "cell_type": "code",
   "execution_count": 60,
   "metadata": {},
   "outputs": [
    {
     "data": {
      "image/png": "[encoded data removed]",
      "text/plain": [
       "<Figure size 800x400 with 1 Axes>"
      ]
     },
     "metadata": {},
     "output_type": "display_data"
    }
   ],
   "source": [
    "# Determine plot size var for use in fig code\n",
    "plot_size = (8,4)\n",
    "\n",
    "# create a figure and determine axis using subplot\n",
    "fig, ax = pp.subplots(figsize=plot_size)\n",
    "# set the background color\n",
    "ax.set_facecolor('xkcd:white')\n",
    "\n",
    "# create a histogram of the PREOP and POSTOP var\n",
    "ax.hist(PREOP, bins=8, linewidth=0.5, edgecolor=\"white\", alpha = 0.8, color='black')\n",
    "ax.hist(POSTOP, bins=8, linewidth=0.5, edgecolor=\"black\", alpha = 0.5, color='red')\n",
    "# bins determines the number of bins (value groups) and all other determine the visual appearance of the graph\n",
    "\n",
    "# print the stored matplotlib figures\n",
    "pp.show()"
   ]
  },
  {
   "cell_type": "markdown",
   "metadata": {},
   "source": [
    "Initial visual analysis appears to show non-conformity to the normal distribution. But to be more precise we can find this mathematically.\n",
    "\n",
    "A good way to check wether an array follows a distributional law is to peform the Anderson-darling test which is a test of exactly that. The code would print false if a distribution is found. This computation requires that there is no NaN values and we can see from out histogram and from out header function output that there is some NaN values"
   ]
  },
  {
   "cell_type": "markdown",
   "metadata": {},
   "source": [
    "We can print the two, for convenience, stacked"
   ]
  },
  {
   "cell_type": "code",
   "execution_count": 61,
   "metadata": {},
   "outputs": [
    {
     "name": "stdout",
     "output_type": "stream",
     "text": [
      "Preop Anderson\n",
      "AndersonResult(statistic=0.39822404755500784, critical_values=array([0.521, 0.593, 0.712, 0.83 , 0.988]), significance_level=array([15. , 10. ,  5. ,  2.5,  1. ]), fit_result=  params: FitParams(loc=37.733333333333334, scale=18.08778085039605)\n",
      " success: True\n",
      " message: '`anderson` successfully fit the distribution to the data.')\n",
      "\n",
      "\n",
      "Postop Anderson\n",
      "AndersonResult(statistic=0.3025404704701131, critical_values=array([0.521, 0.593, 0.712, 0.83 , 0.988]), significance_level=array([15. , 10. ,  5. ,  2.5,  1. ]), fit_result=  params: FitParams(loc=52.93333333333333, scale=18.654634874444756)\n",
      " success: True\n",
      " message: '`anderson` successfully fit the distribution to the data.')\n"
     ]
    }
   ],
   "source": [
    "\n",
    "# Create cleaned vars\n",
    "PREOP_clean = np.array(PREOP)\n",
    "POSTOP_clean = np.array(POSTOP)\n",
    "\n",
    "# Remove NaN values - test will fail upon encountering NaN value\n",
    "PREOP_clean = PREOP_clean[~np.isnan(PREOP_clean)]\n",
    "POSTOP_clean = POSTOP_clean[~np.isnan(POSTOP_clean)]\n",
    "\n",
    "# Perform anderson stat test\n",
    "resultPOSTOP = anderson(POSTOP_clean, dist='norm')\n",
    "resultPREOP= anderson(PREOP_clean, dist='norm')\n",
    "\n",
    "#print of the results from PREOP anderson\n",
    "print(\"Preop Anderson\") # Identifying help\n",
    "print(resultPOSTOP)\n",
    "\n",
    "#seperate values by a new line\n",
    "print(\"\\n\")\n",
    "\n",
    "#print of the result from POSTOP anderson\n",
    "print(\"Postop Anderson\")\n",
    "print(resultPREOP)\n"
   ]
  },
  {
   "cell_type": "markdown",
   "metadata": {},
   "source": [
    "The anderson darling (AD) test ouputs some numbers\n",
    "- Statistic - AD test result, determines how well it fits distribution, smaller the value the closer the fit\n",
    "- Critical Values - linked to statistic and is used to verify null hypothesis, if the statistic is larger than critical value you may reject the null hypothesis \n",
    "- Significance level - Correlates to critical values, value is the probability that you should reject null hypothesis, the lower this value is the more compelling the results are\n",
    "- fit result - shows the most optimal distribution parameters that fit the data and is linked with fit param\n",
    "- fit param - location and scale of the fit line\n",
    "- success - status of anderson calculation "
   ]
  },
  {
   "cell_type": "markdown",
   "metadata": {},
   "source": [
    "To ease visualistion of numbers we can print these out individually and insert into a table"
   ]
  },
  {
   "cell_type": "code",
   "execution_count": 62,
   "metadata": {},
   "outputs": [
    {
     "name": "stdout",
     "output_type": "stream",
     "text": [
      "+--------------+---------------------+---------------------------------+----------------------------+---------+\n",
      "|   Dataset    |      Statistic      |          Critical Value         |    Significance levels     | Success |\n",
      "+--------------+---------------------+---------------------------------+----------------------------+---------+\n",
      "| resultPOSTOP | 0.39822404755500784 | [0.521 0.593 0.712 0.83  0.988] | [15.  10.   5.   2.5  1. ] |   Yes   |\n",
      "| resultPREOP  |  0.3025404704701131 | [0.521 0.593 0.712 0.83  0.988] | [15.  10.   5.   2.5  1. ] |   Yes   |\n",
      "+--------------+---------------------+---------------------------------+----------------------------+---------+\n"
     ]
    }
   ],
   "source": [
    "# Initialse a table function and map to var (table) using prettytable python library\n",
    "table = PrettyTable()\n",
    "\n",
    "# Define the table title names\n",
    "table.field_names = [\"Dataset\", \"Statistic\", \"Critical Value\", \"Significance levels\",\"Success\"]\n",
    "\n",
    "# Due to the nature of the success criteria we need to calculate\n",
    "# The block below check whether the test statistic is greater than the critical value at a significance level of 5%\n",
    "def successcheck(statistic, critical_values):\n",
    "    return \"Yes\" if statistic <= critical_values[2] else \"No\"\n",
    "    # [2] defines sig. level\n",
    "\n",
    "\n",
    "# Add a new row and then print the values from the test into it + print the value from the calculation above\n",
    "table.add_row([\"resultPOSTOP\",resultPOSTOP.statistic, resultPOSTOP.critical_values,resultPOSTOP.significance_level, successcheck(resultPOSTOP.statistic, resultPOSTOP.critical_values)])\n",
    "table.add_row([\"resultPREOP\",resultPREOP.statistic, resultPREOP.critical_values,resultPREOP.significance_level, successcheck(resultPREOP.statistic, resultPOSTOP.critical_values)])\n",
    "\n",
    "# Display the table\n",
    "print(table)\n"
   ]
  },
  {
   "cell_type": "markdown",
   "metadata": {},
   "source": [
    "Due to the results of the test we have to **reject the null hypothesis** as it is shown that the values conform to normality by the success being 'yes' "
   ]
  },
  {
   "cell_type": "markdown",
   "metadata": {},
   "source": [
    "It could be useful to further visualise the data in a different format\n",
    "\n",
    "> we make a line graph"
   ]
  },
  {
   "cell_type": "code",
   "execution_count": 63,
   "metadata": {},
   "outputs": [
    {
     "data": {
      "image/png": "[encoded data removed]",
      "text/plain": [
       "<Figure size 800x400 with 1 Axes>"
      ]
     },
     "metadata": {},
     "output_type": "display_data"
    }
   ],
   "source": [
    "# determine a plot size variable\n",
    "plot_size = (8, 4) \n",
    "\n",
    "# creates a figure and axis with the subplot function (for overlapping)\n",
    "fig, ax = pp.subplots(figsize=plot_size)\n",
    "# determine the colour of the graph\n",
    "ax.set_facecolor('xkcd:white')\n",
    "\n",
    "# plot, in default, the graph and also (like before) remove the NaN values to void graph error \n",
    "ax.plot(ID, [value if not np.isnan(value) else None for value in PREOP], label='PREOP')\n",
    "ax.plot(ID, [value if not np.isnan(value) else None for value in POSTOP], label='POSTOP')\n",
    "\n",
    "# Add a legend to the plot\n",
    "ax.legend() \n",
    "\n",
    "# print of the stored graphs \n",
    "pp.show()"
   ]
  },
  {
   "cell_type": "markdown",
   "metadata": {},
   "source": [
    "The difference appears to be similar for a lot of the points. Importantly from this we notice that the cobb angle has actually gotten worse post surgery and this should be investigated further, although for conciseness another notebook will discuss this."
   ]
  }
 ],
 "metadata": {
  "kernelspec": {
   "display_name": "Python 3",
   "language": "python",
   "name": "python3"
  },
  "language_info": {
   "codemirror_mode": {
    "name": "ipython",
    "version": 3
   },
   "file_extension": ".py",
   "mimetype": "text/x-python",
   "name": "python",
   "nbconvert_exporter": "python",
   "pygments_lexer": "ipython3",
   "version": "3.11.5"
  }
 },
 "nbformat": 4,
 "nbformat_minor": 2
}
