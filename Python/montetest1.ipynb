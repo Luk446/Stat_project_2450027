{
 "cells": [
  {
   "cell_type": "markdown",
   "metadata": {},
   "source": [
    "To verify the legitimacy of observed results we can do what is called a monte carlo simulation, aptly names as it relies on randomness.\n",
    "\n",
    "We theorise a null hypothesis\n",
    "> the results are not statistically significant and therefore cannot be used to conclude experiment success\n",
    "\n",
    "with our alternative\n",
    "\n",
    "> the results pass the monte test and we can say they are significant \n",
    "\n",
    "The format of the following code is as follows;\n",
    "\n",
    "- As per usual we import all relevant modules and libraries for use in the code\n",
    "- Check normality (so we know how to design our monte test)\n",
    "- do the montecarlo test \n",
    "- visualise the results and conclude on hypothesis"
   ]
  },
  {
   "cell_type": "code",
   "execution_count": 7,
   "metadata": {},
   "outputs": [],
   "source": [
    "# Import relevant modules\n",
    "import pandas as pd\n",
    "import numpy as np\n",
    "import matplotlib.pyplot as pp\n",
    "import scipy.stats"
   ]
  },
  {
   "cell_type": "markdown",
   "metadata": {},
   "source": [
    "We extract a snippet of code from our 'cobbangleanalysis' notebook in which we execute the anderson darling test \n",
    "\n",
    "- It will become apparent further down the specific reasoning for this block."
   ]
  },
  {
   "cell_type": "code",
   "execution_count": 8,
   "metadata": {},
   "outputs": [
    {
     "name": "stdout",
     "output_type": "stream",
     "text": [
      "AndersonResult(statistic=0.21574591756670003, critical_values=array([0.521, 0.593, 0.712, 0.83 , 0.988]), significance_level=array([15. , 10. ,  5. ,  2.5,  1. ]), fit_result=  params: FitParams(loc=15.2, scale=15.674270592939553)\n",
      " success: True\n",
      " message: '`anderson` successfully fit the distribution to the data.')\n",
      "Yes\n"
     ]
    }
   ],
   "source": [
    "from scipy.stats import anderson\n",
    "\n",
    "# This block of code is the copied for the cobb angle notebook so see there for detailed anotation but essentialy we compute anderson darling test \n",
    "df = pd.read_csv(\"Table2extract.csv\")\n",
    "df['magnitude_change'] = df.iloc[:,5] - df.iloc[:,6]\n",
    "mag_clean = np.array(df.iloc[:,13])\n",
    "mag_clean = mag_clean[~np.isnan(mag_clean)]\n",
    "result_mag_clean = anderson(mag_clean, dist='norm')\n",
    "print(result_mag_clean)\n",
    "def successcheck(statistic, critical_values):\n",
    "    return \"Yes\" if statistic <= critical_values[2] else \"No\"\n",
    "print(successcheck(result_mag_clean.statistic, result_mag_clean.critical_values))"
   ]
  },
  {
   "cell_type": "markdown",
   "metadata": {},
   "source": [
    "We already know that pre and post op are normally distributed but to avoid error we have checked for the difference in values too as extra reassurance.\n",
    "\n",
    "Now we know this we can execute the monte carlo simulation, the process is as follows:\n",
    "\n",
    "- create an new function for use in the test \n",
    "- find the 'real' values\n",
    "- define simulation extent\n",
    "- now the sim is ran \n",
    "- calculate the p values for the hypothesis test \n",
    "- print all results"
   ]
  },
  {
   "cell_type": "code",
   "execution_count": 9,
   "metadata": {},
   "outputs": [
    {
     "data": {
      "text/html": [
       "<div>\n",
       "<style scoped>\n",
       "    .dataframe tbody tr th:only-of-type {\n",
       "        vertical-align: middle;\n",
       "    }\n",
       "\n",
       "    .dataframe tbody tr th {\n",
       "        vertical-align: top;\n",
       "    }\n",
       "\n",
       "    .dataframe thead th {\n",
       "        text-align: right;\n",
       "    }\n",
       "</style>\n",
       "<table border=\"1\" class=\"dataframe\">\n",
       "  <thead>\n",
       "    <tr style=\"text-align: right;\">\n",
       "      <th></th>\n",
       "      <th>ID</th>\n",
       "      <th>Age at Prior Fusion (mo)</th>\n",
       "      <th>Age at VEPTR (yr)</th>\n",
       "      <th>Age at Last Follow-up CT (yr)</th>\n",
       "      <th>Length of Follow-up(yr)</th>\n",
       "      <th>Cobb Angle Preoperative</th>\n",
       "      <th>Cobb angle Postoperative</th>\n",
       "      <th>Cobb Angle Last</th>\n",
       "      <th>Thoracic Spine Length (cm) Pre Operative</th>\n",
       "      <th>Thoracic Spine Length (cm) Postoperative</th>\n",
       "      <th>Thoracic Spine Length (cm) Last</th>\n",
       "      <th>Change in Thoracic Spine Length After Initial VEPTR (cm) [last postoperative (cm)]</th>\n",
       "      <th>Grovvth/Year Thoracic Spine After Initial Operation (cm) [last — postoperative/ yr (crVyr)]</th>\n",
       "      <th>magnitude_change</th>\n",
       "    </tr>\n",
       "  </thead>\n",
       "  <tbody>\n",
       "    <tr>\n",
       "      <th>0</th>\n",
       "      <td>a</td>\n",
       "      <td>NaN</td>\n",
       "      <td>2.1</td>\n",
       "      <td>7.3</td>\n",
       "      <td>5.2</td>\n",
       "      <td>47.0</td>\n",
       "      <td>29.0</td>\n",
       "      <td>29.0</td>\n",
       "      <td>12.3</td>\n",
       "      <td>15.3</td>\n",
       "      <td>20.7</td>\n",
       "      <td>5.4</td>\n",
       "      <td>1.0</td>\n",
       "      <td>18.0</td>\n",
       "    </tr>\n",
       "    <tr>\n",
       "      <th>1</th>\n",
       "      <td>b</td>\n",
       "      <td>NaN</td>\n",
       "      <td>9.9</td>\n",
       "      <td>14.7</td>\n",
       "      <td>4.8</td>\n",
       "      <td>30.0</td>\n",
       "      <td>20.0</td>\n",
       "      <td>32.0</td>\n",
       "      <td>NaN</td>\n",
       "      <td>21.1</td>\n",
       "      <td>26.1</td>\n",
       "      <td>5.0</td>\n",
       "      <td>1.0</td>\n",
       "      <td>10.0</td>\n",
       "    </tr>\n",
       "    <tr>\n",
       "      <th>2</th>\n",
       "      <td>c</td>\n",
       "      <td>NaN</td>\n",
       "      <td>1.2</td>\n",
       "      <td>5.2</td>\n",
       "      <td>4.0</td>\n",
       "      <td>49.0</td>\n",
       "      <td>47.0</td>\n",
       "      <td>49.0</td>\n",
       "      <td>107.0</td>\n",
       "      <td>12.2</td>\n",
       "      <td>16.0</td>\n",
       "      <td>38.0</td>\n",
       "      <td>1.0</td>\n",
       "      <td>2.0</td>\n",
       "    </tr>\n",
       "    <tr>\n",
       "      <th>3</th>\n",
       "      <td>d</td>\n",
       "      <td>NaN</td>\n",
       "      <td>3.4</td>\n",
       "      <td>8.8</td>\n",
       "      <td>5.4</td>\n",
       "      <td>34.0</td>\n",
       "      <td>49.0</td>\n",
       "      <td>49.0</td>\n",
       "      <td>NaN</td>\n",
       "      <td>NaN</td>\n",
       "      <td>21.2</td>\n",
       "      <td>NaN</td>\n",
       "      <td>NaN</td>\n",
       "      <td>-15.0</td>\n",
       "    </tr>\n",
       "    <tr>\n",
       "      <th>4</th>\n",
       "      <td>e</td>\n",
       "      <td>NaN</td>\n",
       "      <td>1.0</td>\n",
       "      <td>5.7</td>\n",
       "      <td>4.7</td>\n",
       "      <td>33.0</td>\n",
       "      <td>12.0</td>\n",
       "      <td>16.0</td>\n",
       "      <td>105.0</td>\n",
       "      <td>10.1</td>\n",
       "      <td>13.9</td>\n",
       "      <td>3.8</td>\n",
       "      <td>8.0</td>\n",
       "      <td>21.0</td>\n",
       "    </tr>\n",
       "  </tbody>\n",
       "</table>\n",
       "</div>"
      ],
      "text/plain": [
       "  ID  Age at Prior Fusion (mo)  Age at VEPTR (yr)  \\\n",
       "0  a                       NaN                2.1   \n",
       "1  b                       NaN                9.9   \n",
       "2  c                       NaN                1.2   \n",
       "3  d                       NaN                3.4   \n",
       "4  e                       NaN                1.0   \n",
       "\n",
       "   Age at Last Follow-up CT (yr)  Length of Follow-up(yr)  \\\n",
       "0                            7.3                      5.2   \n",
       "1                           14.7                      4.8   \n",
       "2                            5.2                      4.0   \n",
       "3                            8.8                      5.4   \n",
       "4                            5.7                      4.7   \n",
       "\n",
       "   Cobb Angle Preoperative  Cobb angle Postoperative  Cobb Angle Last  \\\n",
       "0                     47.0                      29.0             29.0   \n",
       "1                     30.0                      20.0             32.0   \n",
       "2                     49.0                      47.0             49.0   \n",
       "3                     34.0                      49.0             49.0   \n",
       "4                     33.0                      12.0             16.0   \n",
       "\n",
       "   Thoracic Spine Length (cm) Pre Operative  \\\n",
       "0                                      12.3   \n",
       "1                                       NaN   \n",
       "2                                     107.0   \n",
       "3                                       NaN   \n",
       "4                                     105.0   \n",
       "\n",
       "   Thoracic Spine Length (cm) Postoperative  Thoracic Spine Length (cm) Last  \\\n",
       "0                                      15.3                             20.7   \n",
       "1                                      21.1                             26.1   \n",
       "2                                      12.2                             16.0   \n",
       "3                                       NaN                             21.2   \n",
       "4                                      10.1                             13.9   \n",
       "\n",
       "   Change in Thoracic Spine Length After Initial VEPTR (cm) [last postoperative (cm)]  \\\n",
       "0                                                5.4                                    \n",
       "1                                                5.0                                    \n",
       "2                                               38.0                                    \n",
       "3                                                NaN                                    \n",
       "4                                                3.8                                    \n",
       "\n",
       "   Grovvth/Year Thoracic Spine After Initial Operation (cm) [last — postoperative/ yr (crVyr)]  \\\n",
       "0                                                1.0                                             \n",
       "1                                                1.0                                             \n",
       "2                                                1.0                                             \n",
       "3                                                NaN                                             \n",
       "4                                                8.0                                             \n",
       "\n",
       "   magnitude_change  \n",
       "0              18.0  \n",
       "1              10.0  \n",
       "2               2.0  \n",
       "3             -15.0  \n",
       "4              21.0  "
      ]
     },
     "execution_count": 9,
     "metadata": {},
     "output_type": "execute_result"
    }
   ],
   "source": [
    "# Check table\n",
    "df.head()"
   ]
  },
  {
   "cell_type": "code",
   "execution_count": 10,
   "metadata": {},
   "outputs": [
    {
     "name": "stdout",
     "output_type": "stream",
     "text": [
      "Observed negative count: 4\n",
      "Observed positive count: 25\n",
      "\n",
      "Mean simulated negative count: 159.539\n",
      "Mean simulated positive count: 801.461\n",
      "\n",
      "P-value for negative values: 1.0\n",
      "P-value for positive values: 1.0\n",
      "\n",
      "Test std 15.674270592939553\n",
      "mean test 15.2\n"
     ]
    }
   ],
   "source": [
    "\n",
    "# First to verify that function for the monte carlo workrs we test finding the std and mean of data \n",
    "original_data = df.iloc[:,13]\n",
    "stdtest = original_data.std()\n",
    "testmean = original_data.mean()\n",
    "\n",
    "extract = 'magnitude_change'\n",
    "\n",
    "# create a new custom function that will be the montecarlo sim by defining certain parameters we want \n",
    "def monte_carlo_simulation(num_samples, original_data):\n",
    "    # we generate random numbers that fit the normal distribution \n",
    "    # set the mean,standard dev and sample size and dimensions of the new dist. to that of the original data\n",
    "    simulated_data = np.random.normal(loc=original_data.mean(), scale=original_data.std(), size=(num_samples, len(original_data)))\n",
    "    # return sends the function result back to the caller (when it is called)\n",
    "    return simulated_data\n",
    "\n",
    "\n",
    "# Define the real values from the table \n",
    "observed_neg_count = (df[extract] < 0).sum()\n",
    "observed_pos_count = (df[extract] > 0).sum()\n",
    "\n",
    "# Number of Monte Carlo simulations\n",
    "num_simulations = 1000\n",
    "# the number of simiulations only pertains to the precision of the result and is not derived from anywhere\n",
    "\n",
    "# Run Monte Carlo simulations using the function we defined above\n",
    "# create a variable array so that we can store our calculated values\n",
    "simulated_counts = []\n",
    "# we want to loop this block for the pre-defined number of sims\n",
    "for _ in range(num_simulations):\n",
    "    # init. var from the execute of the monte func \n",
    "    # var = monte result\n",
    "    # len finds row number of df and then we extract the extract df for \n",
    "    simulated_data = monte_carlo_simulation(len(df), df[extract]) # we have now an array of sim data points \n",
    "    # just like we did for the real data we find the negative and positive values\n",
    "    simulated_neg_count = (simulated_data < 0).sum()\n",
    "    simulated_pos_count = (simulated_data > 0).sum()\n",
    "    # the values found in two lines above are stored into a tuple that and will do so for as many times the block is looped\n",
    "    simulated_counts.append((simulated_neg_count, simulated_pos_count))\n",
    "\n",
    "# Calculate p-values - find the probability of observing counts => than the original counts upon random data generation \n",
    "p_value_neg = (observed_neg_count <= np.array(simulated_counts)[:, 0]).mean()\n",
    "p_value_pos = (observed_pos_count <= np.array(simulated_counts)[:, 1]).mean()\n",
    "\n",
    "\n",
    "# Print results - print ( text : {value} )\n",
    "print(f\"Observed negative count: {observed_neg_count}\")\n",
    "print(f\"Observed positive count: {observed_pos_count}\")\n",
    "print(\"\")\n",
    "\n",
    "# Because we have simulated data in a df we need to extract to print the value\n",
    "print(f\"Mean simulated negative count: {np.mean(np.array(simulated_counts)[:, 0])}\")\n",
    "print(f\"Mean simulated positive count: {np.mean(np.array(simulated_counts)[:, 1])}\")\n",
    "print(\"\")\n",
    "\n",
    "print(f\"P-value for negative values: {p_value_neg}\")\n",
    "print(f\"P-value for positive values: {p_value_pos}\")\n",
    "print(\"\")\n",
    "\n",
    "print(f\"Test std : {stdtest}\")\n",
    "print(f\"mean test : {testmean}\")"
   ]
  },
  {
   "cell_type": "markdown",
   "metadata": {},
   "source": [
    "We note that a P value of 1 is improbable and in reality we get closer and closer but do not tend to reach exactly one, this value is here due to software limitation causing a rounding effect. We can observe this very high similarity through the block below"
   ]
  },
  {
   "cell_type": "code",
   "execution_count": 11,
   "metadata": {},
   "outputs": [
    {
     "name": "stdout",
     "output_type": "stream",
     "text": [
      "prob observed: 0.16\n",
      "prob in sim: 0.16767922235722965\n"
     ]
    }
   ],
   "source": [
    "# ratio of negative to pos \n",
    "ratio1 = observed_neg_count/observed_pos_count\n",
    "ratio2 = simulated_neg_count/simulated_pos_count\n",
    "print(f\"prob observed: {ratio1}\")\n",
    "print(f\"prob in sim: {ratio2}\")"
   ]
  },
  {
   "cell_type": "markdown",
   "metadata": {},
   "source": [
    "These numbers represent the probability of, if one selects a participant by random. The probability it will be a failure observed.\n",
    "\n",
    "Both of them appear identical, in the first two significant figures but past that they differ. I believe this is why we get a 1 value."
   ]
  },
  {
   "cell_type": "markdown",
   "metadata": {},
   "source": [
    "The conclusion of this test is that we **Cannot reject the null hypothesis** due to p value being close to 1 and the probabilites are close to identical.\n",
    "\n",
    "The similarity in distribution can be visualised by plotting the histograms of the observed and simulated data ontop each other"
   ]
  },
  {
   "cell_type": "code",
   "execution_count": 12,
   "metadata": {},
   "outputs": [
    {
     "data": {
      "text/plain": [
       "<function matplotlib.pyplot.show(close=None, block=None)>"
      ]
     },
     "execution_count": 12,
     "metadata": {},
     "output_type": "execute_result"
    },
    {
     "data": {
      "image/png": "[encoded data removed]",
      "text/plain": [
       "<Figure size 800x400 with 1 Axes>"
      ]
     },
     "metadata": {},
     "output_type": "display_data"
    }
   ],
   "source": [
    "#Define histogram plot size\n",
    "plot_size = (8,4)\n",
    "\n",
    "# so that we can plot two hist at once we create a figure defined of subplots \n",
    "fig, ax = pp.subplots(figsize=plot_size)\n",
    "\n",
    "# Plot the simulated and observec data hists and group the data into 10 bins each with a title and transparency value\n",
    "ax.hist(simulated_data, bins = 10, label = 'sim data', alpha =0.6)\n",
    "ax.hist(mag_clean, bins = 10, color='black', label = 'real data', alpha=0.8)\n",
    "# Legend for discrim\n",
    "ax.legend()\n",
    "# Print stored graphs\n",
    "pp.show"
   ]
  }
 ],
 "metadata": {
  "kernelspec": {
   "display_name": "Python 3",
   "language": "python",
   "name": "python3"
  },
  "language_info": {
   "codemirror_mode": {
    "name": "ipython",
    "version": 3
   },
   "file_extension": ".py",
   "mimetype": "text/x-python",
   "name": "python",
   "nbconvert_exporter": "python",
   "pygments_lexer": "ipython3",
   "version": "3.11.5"
  }
 },
 "nbformat": 4,
 "nbformat_minor": 2
}
